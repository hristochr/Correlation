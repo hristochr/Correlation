{
  "cells": [
    {
      "metadata": {},
      "cell_type": "markdown",
      "source": "## NumPy Correlation Calculation"
    },
    {
      "metadata": {
        "trusted": true
      },
      "cell_type": "code",
      "source": "import numpy as np\nimport scipy.stats\nimport pandas as pd\n\nimport matplotlib.pyplot as plt\nplt.style.use('ggplot')",
      "execution_count": 47,
      "outputs": []
    },
    {
      "metadata": {
        "trusted": true
      },
      "cell_type": "code",
      "source": "x = np.arange(10, 20)\nx",
      "execution_count": 4,
      "outputs": [
        {
          "output_type": "execute_result",
          "execution_count": 4,
          "data": {
            "text/plain": "array([10, 11, 12, 13, 14, 15, 16, 17, 18, 19])"
          },
          "metadata": {}
        }
      ]
    },
    {
      "metadata": {
        "trusted": true
      },
      "cell_type": "code",
      "source": "y = np.array([2, 1, 4, 5, 8, 12, 18, 25, 96, 48])\ny",
      "execution_count": 5,
      "outputs": [
        {
          "output_type": "execute_result",
          "execution_count": 5,
          "data": {
            "text/plain": "array([ 2,  1,  4,  5,  8, 12, 18, 25, 96, 48])"
          },
          "metadata": {}
        }
      ]
    },
    {
      "metadata": {
        "trusted": true
      },
      "cell_type": "code",
      "source": "r = np.corrcoef(x, y)\nr\n#returns the correlation matrix, which is a two-dimensional array with the correlation coefficients. ",
      "execution_count": 7,
      "outputs": [
        {
          "output_type": "execute_result",
          "execution_count": 7,
          "data": {
            "text/plain": "array([[1.        , 0.75864029],\n       [0.75864029, 1.        ]])"
          },
          "metadata": {}
        }
      ]
    },
    {
      "metadata": {},
      "cell_type": "markdown",
      "source": "## SciPy Correlation Calculation"
    },
    {
      "metadata": {
        "trusted": true
      },
      "cell_type": "code",
      "source": "x = np.arange(10, 20)\ny = np.array([2, 1, 4, 5, 8, 12, 18, 25, 96, 48])",
      "execution_count": 11,
      "outputs": [
        {
          "output_type": "execute_result",
          "execution_count": 11,
          "data": {
            "text/plain": "(0.7586402890911869, 0.010964341301680829)"
          },
          "metadata": {}
        }
      ]
    },
    {
      "metadata": {},
      "cell_type": "markdown",
      "source": "### Pearson's r"
    },
    {
      "metadata": {
        "trusted": true
      },
      "cell_type": "code",
      "source": "r, p = scipy.stats.pearsonr(x, y)\nprint(f'Correlation coefficient: {r}, p-value: {p}.') # Pearson's r",
      "execution_count": 17,
      "outputs": [
        {
          "output_type": "stream",
          "text": "Correlation coefficient: 0.7586402890911869, p-value: 0.010964341301680829.\n",
          "name": "stdout"
        }
      ]
    },
    {
      "metadata": {},
      "cell_type": "markdown",
      "source": "### Spearman's rho"
    },
    {
      "metadata": {
        "trusted": true
      },
      "cell_type": "code",
      "source": "r, p = scipy.stats.spearmanr(x, y)\nprint(f'Correlation coefficient: {r}, p-value: {p}.') #Spearman's rho",
      "execution_count": 19,
      "outputs": [
        {
          "output_type": "stream",
          "text": "Correlation coefficient: 0.9757575757575757, p-value: 1.4675461874042197e-06.\n",
          "name": "stdout"
        }
      ]
    },
    {
      "metadata": {},
      "cell_type": "markdown",
      "source": "### Kendall's tau"
    },
    {
      "metadata": {
        "trusted": true
      },
      "cell_type": "code",
      "source": "r, p = scipy.stats.kendalltau(x,y)\nprint(f'Correlation coefficient: {r}, p-value: {p}.') #Kendall's tau",
      "execution_count": 21,
      "outputs": [
        {
          "output_type": "stream",
          "text": "Correlation coefficient: 0.911111111111111, p-value: 0.00024526750741092087.\n",
          "name": "stdout"
        }
      ]
    },
    {
      "metadata": {},
      "cell_type": "markdown",
      "source": "## Pandas Correlation Calculation"
    },
    {
      "metadata": {
        "trusted": true
      },
      "cell_type": "code",
      "source": "x = pd.Series(range(10, 20))\ny = pd.Series([2, 1, 4, 5, 8, 12, 18, 25, 96, 48])\n\nprint(x.corr(y))                     # Pearson's r\n\nprint(x.corr(y, method='spearman'))  # Spearman's rho\n\nprint(x.corr(y, method='kendall'))   # Kendall's tau\n",
      "execution_count": 26,
      "outputs": [
        {
          "output_type": "stream",
          "text": "0.7586402890911867\n0.9757575757575757\n0.911111111111111\n",
          "name": "stdout"
        }
      ]
    },
    {
      "metadata": {},
      "cell_type": "markdown",
      "source": "## Linear Correlation\n"
    },
    {
      "metadata": {},
      "cell_type": "markdown",
      "source": "### Linear Regression: SciPy Implementation"
    },
    {
      "metadata": {
        "trusted": true
      },
      "cell_type": "code",
      "source": "x = np.arange(10, 20)\ny = np.array([2, 1, 4, 5, 8, 12, 18, 25, 96, 48])",
      "execution_count": 27,
      "outputs": []
    },
    {
      "metadata": {
        "trusted": true
      },
      "cell_type": "code",
      "source": "result = scipy.stats.linregress(x, y)\n\nprint(result.slope)\nprint(result.intercept)\nprint(result.rvalue)\nprint(result.pvalue)\nprint(result.stderr)",
      "execution_count": 28,
      "outputs": [
        {
          "output_type": "stream",
          "text": "7.4363636363636365\n-85.92727272727274\n0.7586402890911869\n0.010964341301680825\n2.257878767543913\n",
          "name": "stdout"
        }
      ]
    },
    {
      "metadata": {},
      "cell_type": "markdown",
      "source": "### Pearson Correlation: NumPy and SciPy Implementation\n"
    },
    {
      "metadata": {
        "trusted": true
      },
      "cell_type": "code",
      "source": "r, p = scipy.stats.pearsonr(x, y)\nnp.corrcoef(x, y)",
      "execution_count": 29,
      "outputs": [
        {
          "output_type": "execute_result",
          "execution_count": 29,
          "data": {
            "text/plain": "array([[1.        , 0.75864029],\n       [0.75864029, 1.        ]])"
          },
          "metadata": {}
        }
      ]
    },
    {
      "metadata": {
        "trusted": true
      },
      "cell_type": "code",
      "source": "#for three values\nxyz = np.array([[10, 11, 12, 13, 14, 15, 16, 17, 18, 19],\n                [2, 1, 4, 5, 8, 12, 18, 25, 96, 48],\n                [5, 3, 2, 1, 0, -2, -8, -11, -15, -16]])\nnp.corrcoef(xyz)",
      "execution_count": 30,
      "outputs": [
        {
          "output_type": "execute_result",
          "execution_count": 30,
          "data": {
            "text/plain": "array([[ 1.        ,  0.75864029, -0.96807242],\n       [ 0.75864029,  1.        , -0.83407922],\n       [-0.96807242, -0.83407922,  1.        ]])"
          },
          "metadata": {}
        }
      ]
    },
    {
      "metadata": {
        "trusted": true
      },
      "cell_type": "code",
      "source": "arr_with_nan = np.array([[0, 1, 2, 3],\n                         [2, 4, 1, 8],\n                         [2, 5, np.nan, 2]])\nnp.corrcoef(arr_with_nan)\n",
      "execution_count": 31,
      "outputs": [
        {
          "output_type": "execute_result",
          "execution_count": 31,
          "data": {
            "text/plain": "array([[1.        , 0.62554324,        nan],\n       [0.62554324, 1.        ,        nan],\n       [       nan,        nan,        nan]])"
          },
          "metadata": {}
        }
      ]
    },
    {
      "metadata": {},
      "cell_type": "markdown",
      "source": "### Pearson Correlation: Pandas Implementation"
    },
    {
      "metadata": {
        "trusted": true
      },
      "cell_type": "code",
      "source": "x = pd.Series(range(10, 20))\ny = pd.Series([2, 1, 4, 5, 8, 12, 18, 25, 96, 48])\nz = pd.Series([5, 3, 2, 1, 0, -2, -8, -11, -15, -16])\n\nxy = pd.DataFrame({'x-values': x, 'y-values': y})\nxyz = pd.DataFrame({'x-values': x, 'y-values': y, 'z-values': z})\n\nprint(xy)\nprint(xyz)",
      "execution_count": 33,
      "outputs": [
        {
          "output_type": "stream",
          "text": "   x-values  y-values\n0        10         2\n1        11         1\n2        12         4\n3        13         5\n4        14         8\n5        15        12\n6        16        18\n7        17        25\n8        18        96\n9        19        48\n   x-values  y-values  z-values\n0        10         2         5\n1        11         1         3\n2        12         4         2\n3        13         5         1\n4        14         8         0\n5        15        12        -2\n6        16        18        -8\n7        17        25       -11\n8        18        96       -15\n9        19        48       -16\n",
          "name": "stdout"
        }
      ]
    },
    {
      "metadata": {},
      "cell_type": "markdown",
      "source": "## Rank Correlation"
    },
    {
      "metadata": {},
      "cell_type": "markdown",
      "source": "### Rank: SciPy Implementation"
    },
    {
      "metadata": {
        "trusted": true
      },
      "cell_type": "code",
      "source": "x = np.arange(10, 20)\ny = np.array([2, 1, 4, 5, 8, 12, 18, 25, 96, 48])\nz = np.array([5, 3, 2, 1, 0, -2, -8, -11, -15, -16])",
      "execution_count": 36,
      "outputs": []
    },
    {
      "metadata": {
        "trusted": true
      },
      "cell_type": "code",
      "source": "print(scipy.stats.rankdata(x))\nprint(scipy.stats.rankdata(y))\nprint(scipy.stats.rankdata(z))",
      "execution_count": 37,
      "outputs": [
        {
          "output_type": "stream",
          "text": "[ 1.  2.  3.  4.  5.  6.  7.  8.  9. 10.]\n[ 2.  1.  3.  4.  5.  6.  7.  8. 10.  9.]\n[10.  9.  8.  7.  6.  5.  4.  3.  2.  1.]\n",
          "name": "stdout"
        }
      ]
    },
    {
      "metadata": {},
      "cell_type": "markdown",
      "source": "### Rank Correlation: NumPy and SciPy Implementation"
    },
    {
      "metadata": {
        "trusted": true
      },
      "cell_type": "code",
      "source": "result = scipy.stats.spearmanr(x, y)\n\nprint(result)\nprint(result.correlation)\nprint(result.pvalue)\n\nrho, p = scipy.stats.spearmanr(x, y)\nprint(rho)\nprint(p)\n",
      "execution_count": 38,
      "outputs": [
        {
          "output_type": "stream",
          "text": "SpearmanrResult(correlation=0.9757575757575757, pvalue=1.4675461874042197e-06)\n0.9757575757575757\n1.4675461874042197e-06\n0.9757575757575757\n1.4675461874042197e-06\n",
          "name": "stdout"
        }
      ]
    },
    {
      "metadata": {},
      "cell_type": "markdown",
      "source": "### Rank Correlation: Pandas Implementation\n"
    },
    {
      "metadata": {
        "trusted": true
      },
      "cell_type": "code",
      "source": "x, y, z = pd.Series(x), pd.Series(y), pd.Series(z)\nxy = pd.DataFrame({'x-values': x, 'y-values': y})\nxyz = pd.DataFrame({'x-values': x, 'y-values': y, 'z-values': z})",
      "execution_count": 39,
      "outputs": []
    },
    {
      "metadata": {
        "trusted": true
      },
      "cell_type": "code",
      "source": "x.corr(y, method='spearman')\n\nxy.corr(method='spearman')\nxyz.corr(method='spearman')\n\n",
      "execution_count": 44,
      "outputs": [
        {
          "output_type": "execute_result",
          "execution_count": 44,
          "data": {
            "text/html": "<div>\n<style scoped>\n    .dataframe tbody tr th:only-of-type {\n        vertical-align: middle;\n    }\n\n    .dataframe tbody tr th {\n        vertical-align: top;\n    }\n\n    .dataframe thead th {\n        text-align: right;\n    }\n</style>\n<table border=\"1\" class=\"dataframe\">\n  <thead>\n    <tr style=\"text-align: right;\">\n      <th></th>\n      <th>x-values</th>\n      <th>y-values</th>\n      <th>z-values</th>\n    </tr>\n  </thead>\n  <tbody>\n    <tr>\n      <th>x-values</th>\n      <td>1.000000</td>\n      <td>0.975758</td>\n      <td>-1.000000</td>\n    </tr>\n    <tr>\n      <th>y-values</th>\n      <td>0.975758</td>\n      <td>1.000000</td>\n      <td>-0.975758</td>\n    </tr>\n    <tr>\n      <th>z-values</th>\n      <td>-1.000000</td>\n      <td>-0.975758</td>\n      <td>1.000000</td>\n    </tr>\n  </tbody>\n</table>\n</div>",
            "text/plain": "          x-values  y-values  z-values\nx-values  1.000000  0.975758 -1.000000\ny-values  0.975758  1.000000 -0.975758\nz-values -1.000000 -0.975758  1.000000"
          },
          "metadata": {}
        }
      ]
    },
    {
      "metadata": {
        "trusted": true
      },
      "cell_type": "code",
      "source": "x.corr(y, method='kendall')\nxy.corr(method='kendall')\nxyz.corr(method='kendall')\n",
      "execution_count": 46,
      "outputs": [
        {
          "output_type": "execute_result",
          "execution_count": 46,
          "data": {
            "text/html": "<div>\n<style scoped>\n    .dataframe tbody tr th:only-of-type {\n        vertical-align: middle;\n    }\n\n    .dataframe tbody tr th {\n        vertical-align: top;\n    }\n\n    .dataframe thead th {\n        text-align: right;\n    }\n</style>\n<table border=\"1\" class=\"dataframe\">\n  <thead>\n    <tr style=\"text-align: right;\">\n      <th></th>\n      <th>x-values</th>\n      <th>y-values</th>\n      <th>z-values</th>\n    </tr>\n  </thead>\n  <tbody>\n    <tr>\n      <th>x-values</th>\n      <td>1.000000</td>\n      <td>0.911111</td>\n      <td>-1.000000</td>\n    </tr>\n    <tr>\n      <th>y-values</th>\n      <td>0.911111</td>\n      <td>1.000000</td>\n      <td>-0.911111</td>\n    </tr>\n    <tr>\n      <th>z-values</th>\n      <td>-1.000000</td>\n      <td>-0.911111</td>\n      <td>1.000000</td>\n    </tr>\n  </tbody>\n</table>\n</div>",
            "text/plain": "          x-values  y-values  z-values\nx-values  1.000000  0.911111 -1.000000\ny-values  0.911111  1.000000 -0.911111\nz-values -1.000000 -0.911111  1.000000"
          },
          "metadata": {}
        }
      ]
    },
    {
      "metadata": {},
      "cell_type": "markdown",
      "source": "## Visualization of Correlation"
    },
    {
      "metadata": {
        "trusted": true
      },
      "cell_type": "code",
      "source": "x = np.arange(10, 20)\ny = np.array([2, 1, 4, 5, 8, 12, 18, 25, 96, 48])\nz = np.array([5, 3, 2, 1, 0, -2, -8, -11, -15, -16])\nxyz = np.array([[10, 11, 12, 13, 14, 15, 16, 17, 18, 19],\n                [2, 1, 4, 5, 8, 12, 18, 25, 96, 48],\n                [5, 3, 2, 1, 0, -2, -8, -11, -15, -16]])",
      "execution_count": 48,
      "outputs": []
    },
    {
      "metadata": {},
      "cell_type": "markdown",
      "source": "### X-Y Plots With a Regression Line"
    },
    {
      "metadata": {
        "trusted": true
      },
      "cell_type": "code",
      "source": "slope, intercept, r, p, stderr = scipy.stats.linregress(x, y)\nline = f'Regression line: y={intercept:.2f}+{slope:.2f}x, r={r:.2f}'\nline",
      "execution_count": 49,
      "outputs": [
        {
          "output_type": "execute_result",
          "execution_count": 49,
          "data": {
            "text/plain": "'Regression line: y=-85.93+7.44x, r=0.76'"
          },
          "metadata": {}
        }
      ]
    },
    {
      "metadata": {
        "trusted": true
      },
      "cell_type": "code",
      "source": "fig, ax = plt.subplots()\nax.plot(x, y, linewidth=0, marker='s', label='Data points')\nax.plot(x, intercept + slope * x, label=line)\nax.set_xlabel('x')\nax.set_ylabel('y')\nax.legend(facecolor='white')\nplt.show()",
      "execution_count": 50,
      "outputs": [
        {
          "output_type": "display_data",
          "data": {
            "image/png": "[encoded data removed]",
            "text/plain": "<Figure size 432x288 with 1 Axes>"
          },
          "metadata": {
            "needs_background": "light"
          }
        }
      ]
    },
    {
      "metadata": {},
      "cell_type": "markdown",
      "source": "### Heatmaps of Correlation Matrices"
    },
    {
      "metadata": {
        "trusted": true
      },
      "cell_type": "code",
      "source": "corr_matrix = np.corrcoef(xyz).round(decimals=2)\ncorr_matrix",
      "execution_count": 51,
      "outputs": [
        {
          "output_type": "execute_result",
          "execution_count": 51,
          "data": {
            "text/plain": "array([[ 1.  ,  0.76, -0.97],\n       [ 0.76,  1.  , -0.83],\n       [-0.97, -0.83,  1.  ]])"
          },
          "metadata": {}
        }
      ]
    },
    {
      "metadata": {
        "trusted": true
      },
      "cell_type": "code",
      "source": "fig, ax = plt.subplots()\nim = ax.imshow(corr_matrix)\nim.set_clim(-1, 1)\nax.grid(False)\nax.xaxis.set(ticks=(0, 1, 2), ticklabels=('x', 'y', 'z'))\nax.yaxis.set(ticks=(0, 1, 2), ticklabels=('x', 'y', 'z'))\nax.set_ylim(2.5, -0.5)\nfor i in range(3):\n    for j in range(3):\n        ax.text(j, i, corr_matrix[i, j], ha='center', va='center',\n                color='r')\ncbar = ax.figure.colorbar(im, ax=ax, format='% .2f')\nplt.show()",
      "execution_count": 52,
      "outputs": [
        {
          "output_type": "display_data",
          "data": {
            "image/png": "[encoded data removed]",
            "text/plain": "<Figure size 432x288 with 2 Axes>"
          },
          "metadata": {
            "needs_background": "light"
          }
        }
      ]
    }
  ],
  "metadata": {
    "kernelspec": {
      "name": "python36",
      "display_name": "Python 3.6",
      "language": "python"
    },
    "language_info": {
      "mimetype": "text/x-python",
      "nbconvert_exporter": "python",
      "name": "python",
      "pygments_lexer": "ipython3",
      "version": "3.6.6",
      "file_extension": ".py",
      "codemirror_mode": {
        "version": 3,
        "name": "ipython"
      }
    }
  },
  "nbformat": 4,
  "nbformat_minor": 2
}